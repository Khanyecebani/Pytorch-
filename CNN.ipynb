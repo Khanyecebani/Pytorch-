{
  "nbformat": 4,
  "nbformat_minor": 0,
  "metadata": {
    "colab": {
      "provenance": [],
      "gpuType": "T4",
      "authorship_tag": "ABX9TyMnQ0ccvnVZNpj8q+zGPaGv",
      "include_colab_link": true
    },
    "kernelspec": {
      "name": "python3",
      "display_name": "Python 3"
    },
    "language_info": {
      "name": "python"
    },
    "accelerator": "GPU"
  },
  "cells": [
    {
      "cell_type": "markdown",
      "metadata": {
        "id": "view-in-github",
        "colab_type": "text"
      },
      "source": [
        "<a href=\"https://colab.research.google.com/github/Khanyecebani/Pytorch-/blob/main/CNN.ipynb\" target=\"_parent\"><img src=\"https://colab.research.google.com/assets/colab-badge.svg\" alt=\"Open In Colab\"/></a>"
      ]
    },
    {
      "cell_type": "code",
      "execution_count": 1,
      "metadata": {
        "id": "HdqIGKqIBYeq"
      },
      "outputs": [],
      "source": [
        "import torch\n",
        "import torch.nn as nn\n",
        "import torch.nn.functional as F\n",
        "from torch.utils.data import DataLoader\n",
        "from torchvision import datasets, transforms\n",
        "from torchvision.utils import make_grid\n",
        "\n",
        "import numpy as np\n",
        "import pandas as pd\n",
        "from sklearn.metrics import confusion_matrix\n",
        "import matplotlib.pyplot as plt\n",
        "%matplotlib inline"
      ]
    },
    {
      "cell_type": "code",
      "source": [
        "#Before we import the data,we need to transform it as we need to work in 4 dimensions by converting\n",
        "#the image files to a tensor of 4 dim(# of images,height,width,color channel)\n",
        "\n",
        "#We have to use the transform that we imported\n",
        "transform = transforms.ToTensor()\n"
      ],
      "metadata": {
        "id": "aMPfSykuLHgQ"
      },
      "execution_count": 2,
      "outputs": []
    },
    {
      "cell_type": "code",
      "source": [
        "#Set up training and test data\n",
        "\n",
        "#Train data\n",
        "train_data = datasets.MNIST(root='/cnn_data',train=True,download=True,transform=transform) #we use the datasets that we imported to load the MNIST dataset from that library and save it locally"
      ],
      "metadata": {
        "id": "XpGvaG8UMNu2",
        "outputId": "92d2068b-f18a-490c-ef0a-82ae1e0f8546",
        "colab": {
          "base_uri": "https://localhost:8080/"
        }
      },
      "execution_count": 3,
      "outputs": [
        {
          "output_type": "stream",
          "name": "stdout",
          "text": [
            "Downloading http://yann.lecun.com/exdb/mnist/train-images-idx3-ubyte.gz\n",
            "Failed to download (trying next):\n",
            "HTTP Error 404: Not Found\n",
            "\n",
            "Downloading https://ossci-datasets.s3.amazonaws.com/mnist/train-images-idx3-ubyte.gz\n",
            "Downloading https://ossci-datasets.s3.amazonaws.com/mnist/train-images-idx3-ubyte.gz to /cnn_data/MNIST/raw/train-images-idx3-ubyte.gz\n"
          ]
        },
        {
          "output_type": "stream",
          "name": "stderr",
          "text": [
            "100%|██████████| 9.91M/9.91M [00:11<00:00, 893kB/s] \n"
          ]
        },
        {
          "output_type": "stream",
          "name": "stdout",
          "text": [
            "Extracting /cnn_data/MNIST/raw/train-images-idx3-ubyte.gz to /cnn_data/MNIST/raw\n",
            "\n",
            "Downloading http://yann.lecun.com/exdb/mnist/train-labels-idx1-ubyte.gz\n",
            "Failed to download (trying next):\n",
            "HTTP Error 404: Not Found\n",
            "\n",
            "Downloading https://ossci-datasets.s3.amazonaws.com/mnist/train-labels-idx1-ubyte.gz\n",
            "Downloading https://ossci-datasets.s3.amazonaws.com/mnist/train-labels-idx1-ubyte.gz to /cnn_data/MNIST/raw/train-labels-idx1-ubyte.gz\n"
          ]
        },
        {
          "output_type": "stream",
          "name": "stderr",
          "text": [
            "100%|██████████| 28.9k/28.9k [00:00<00:00, 135kB/s]\n"
          ]
        },
        {
          "output_type": "stream",
          "name": "stdout",
          "text": [
            "Extracting /cnn_data/MNIST/raw/train-labels-idx1-ubyte.gz to /cnn_data/MNIST/raw\n",
            "\n",
            "Downloading http://yann.lecun.com/exdb/mnist/t10k-images-idx3-ubyte.gz\n",
            "Failed to download (trying next):\n",
            "HTTP Error 404: Not Found\n",
            "\n",
            "Downloading https://ossci-datasets.s3.amazonaws.com/mnist/t10k-images-idx3-ubyte.gz\n",
            "Downloading https://ossci-datasets.s3.amazonaws.com/mnist/t10k-images-idx3-ubyte.gz to /cnn_data/MNIST/raw/t10k-images-idx3-ubyte.gz\n"
          ]
        },
        {
          "output_type": "stream",
          "name": "stderr",
          "text": [
            "100%|██████████| 1.65M/1.65M [00:01<00:00, 1.08MB/s]\n"
          ]
        },
        {
          "output_type": "stream",
          "name": "stdout",
          "text": [
            "Extracting /cnn_data/MNIST/raw/t10k-images-idx3-ubyte.gz to /cnn_data/MNIST/raw\n",
            "\n",
            "Downloading http://yann.lecun.com/exdb/mnist/t10k-labels-idx1-ubyte.gz\n",
            "Failed to download (trying next):\n",
            "HTTP Error 404: Not Found\n",
            "\n",
            "Downloading https://ossci-datasets.s3.amazonaws.com/mnist/t10k-labels-idx1-ubyte.gz\n",
            "Downloading https://ossci-datasets.s3.amazonaws.com/mnist/t10k-labels-idx1-ubyte.gz to /cnn_data/MNIST/raw/t10k-labels-idx1-ubyte.gz\n"
          ]
        },
        {
          "output_type": "stream",
          "name": "stderr",
          "text": [
            "100%|██████████| 4.54k/4.54k [00:00<00:00, 10.5MB/s]"
          ]
        },
        {
          "output_type": "stream",
          "name": "stdout",
          "text": [
            "Extracting /cnn_data/MNIST/raw/t10k-labels-idx1-ubyte.gz to /cnn_data/MNIST/raw\n",
            "\n"
          ]
        },
        {
          "output_type": "stream",
          "name": "stderr",
          "text": [
            "\n"
          ]
        }
      ]
    },
    {
      "cell_type": "code",
      "source": [
        "#Test Data\n",
        "test_data = datasets.MNIST(root='/cnn_data',train=False,download=True,transform=transform) #we use the datasets that we imported to load the MNIST dataset from that library and save it locally"
      ],
      "metadata": {
        "id": "DGfHVcTeNaFr"
      },
      "execution_count": 4,
      "outputs": []
    },
    {
      "cell_type": "code",
      "source": [
        "train_data"
      ],
      "metadata": {
        "id": "mhuXQ8z_Ns9A",
        "outputId": "48794959-053d-4a3d-82b0-41822b399597",
        "colab": {
          "base_uri": "https://localhost:8080/"
        }
      },
      "execution_count": 5,
      "outputs": [
        {
          "output_type": "execute_result",
          "data": {
            "text/plain": [
              "Dataset MNIST\n",
              "    Number of datapoints: 60000\n",
              "    Root location: /cnn_data\n",
              "    Split: Train\n",
              "    StandardTransform\n",
              "Transform: ToTensor()"
            ]
          },
          "metadata": {},
          "execution_count": 5
        }
      ]
    },
    {
      "cell_type": "code",
      "source": [
        "test_data"
      ],
      "metadata": {
        "id": "zwq82HJhN3m5",
        "outputId": "86ff9efd-5dd2-411a-b351-86131d3c8394",
        "colab": {
          "base_uri": "https://localhost:8080/"
        }
      },
      "execution_count": 6,
      "outputs": [
        {
          "output_type": "execute_result",
          "data": {
            "text/plain": [
              "Dataset MNIST\n",
              "    Number of datapoints: 10000\n",
              "    Root location: /cnn_data\n",
              "    Split: Test\n",
              "    StandardTransform\n",
              "Transform: ToTensor()"
            ]
          },
          "metadata": {},
          "execution_count": 6
        }
      ]
    },
    {
      "cell_type": "code",
      "source": [
        "#We have to create a small batch size for images (10)\n",
        "train_loader = DataLoader(train_data,batch_size=10,shuffle=True) #we just want to shuffle the training data\n",
        "test_loader = DataLoader(test_data,batch_size=10,shuffle=True)\n"
      ],
      "metadata": {
        "id": "x02jevfPN7ep"
      },
      "execution_count": 7,
      "outputs": []
    },
    {
      "cell_type": "code",
      "source": [
        "#Define our CNN model\n",
        "#We will have 2 convulational layers\n",
        "conv1 = nn.Conv2d(1,6,3,1) #1 image,6 filters(outputs),kernel size of 3x3,stride of 1 at a time\n",
        "conv2 = nn.Conv2d(6,16,3,1) #6 outputs from the first layer become the inputs to this layer,16 filters(outputs),kernel size of 3x3,stride of 1 at a time\n"
      ],
      "metadata": {
        "id": "JaEZAjuWWV-K"
      },
      "execution_count": 8,
      "outputs": []
    },
    {
      "cell_type": "code",
      "source": [
        "#Grab 1 MNIST record(image) by looping through our data\n",
        "for i, (X_Train,y_train) in enumerate(train_data):\n",
        "  break"
      ],
      "metadata": {
        "id": "3mlXmV-kX2l8"
      },
      "execution_count": 9,
      "outputs": []
    },
    {
      "cell_type": "code",
      "source": [
        "X_Train.shape #1 image of size 28x28 pixels"
      ],
      "metadata": {
        "id": "pHx9dNzJYbdc",
        "outputId": "18ca35cc-208b-4dbb-c24e-cac2bbf22d50",
        "colab": {
          "base_uri": "https://localhost:8080/"
        }
      },
      "execution_count": 10,
      "outputs": [
        {
          "output_type": "execute_result",
          "data": {
            "text/plain": [
              "torch.Size([1, 28, 28])"
            ]
          },
          "metadata": {},
          "execution_count": 10
        }
      ]
    },
    {
      "cell_type": "code",
      "source": [
        "#We have to change our image to a 4 dimension image\n",
        "x = X_Train.view(1,1,28,28) #1 batch of 1 image of 28x28"
      ],
      "metadata": {
        "id": "_GlaJd8KZHMF"
      },
      "execution_count": 11,
      "outputs": []
    },
    {
      "cell_type": "code",
      "source": [
        "#Perform our first convolution\n",
        "x = F.relu(conv1(x)) #Rectified Linear Unit for our activation function"
      ],
      "metadata": {
        "id": "xc4HJaO8ZjyM"
      },
      "execution_count": 12,
      "outputs": []
    },
    {
      "cell_type": "code",
      "source": [
        "x.shape #the layer has run and the output is a single image with 6 filters and now a 26x26\n",
        "#because we did not define any padding in our CNN and some pixels will be dropped\n"
      ],
      "metadata": {
        "id": "QY-pCX57bGv-",
        "outputId": "50714e39-fac9-4955-b99a-c99e7245bfcd",
        "colab": {
          "base_uri": "https://localhost:8080/"
        }
      },
      "execution_count": 13,
      "outputs": [
        {
          "output_type": "execute_result",
          "data": {
            "text/plain": [
              "torch.Size([1, 6, 26, 26])"
            ]
          },
          "metadata": {},
          "execution_count": 13
        }
      ]
    },
    {
      "cell_type": "code",
      "source": [
        "#We now get into the pooling layer\n",
        "x = F.max_pool2d(x,2,2) #kernel of 2x2 and stride of 2"
      ],
      "metadata": {
        "id": "njeBpoFAcLfC"
      },
      "execution_count": 14,
      "outputs": []
    },
    {
      "cell_type": "code",
      "source": [
        "x.shape #pixels are now 13x13 as we have a kernel of 2x2 and stride of 2\n"
      ],
      "metadata": {
        "id": "rETAiZTFc-4W",
        "outputId": "70332e83-46e6-4e88-da8a-a4c71b7fd773",
        "colab": {
          "base_uri": "https://localhost:8080/"
        }
      },
      "execution_count": 15,
      "outputs": [
        {
          "output_type": "execute_result",
          "data": {
            "text/plain": [
              "torch.Size([1, 6, 13, 13])"
            ]
          },
          "metadata": {},
          "execution_count": 15
        }
      ]
    },
    {
      "cell_type": "code",
      "source": [
        "#Do our second convolutional layer\n",
        "x = F.relu(conv2(x))"
      ],
      "metadata": {
        "id": "jOd3pX-RdWRk"
      },
      "execution_count": 16,
      "outputs": []
    },
    {
      "cell_type": "code",
      "source": [
        "x.shape #Image is now of 11x11 since we lost 2 pixels by not setting padding\n",
        "\n"
      ],
      "metadata": {
        "id": "vdPs9FP_d-0_",
        "outputId": "f7536710-2201-450f-aeab-3320d38b5048",
        "colab": {
          "base_uri": "https://localhost:8080/"
        }
      },
      "execution_count": 17,
      "outputs": [
        {
          "output_type": "execute_result",
          "data": {
            "text/plain": [
              "torch.Size([1, 16, 11, 11])"
            ]
          },
          "metadata": {},
          "execution_count": 17
        }
      ]
    },
    {
      "cell_type": "code",
      "source": [
        "#We get into another pooling layer\n",
        "x = F.max_pool2d(x,2,2)"
      ],
      "metadata": {
        "id": "Fd6_py7meNYX"
      },
      "execution_count": 18,
      "outputs": []
    },
    {
      "cell_type": "code",
      "source": [
        "x.shape #image is now of 5x5 as 11/2 = 5.5 but we have to round down because we\n",
        "#have already lost some data(pixels) in the pooling"
      ],
      "metadata": {
        "id": "I_1X-AKCekdN",
        "outputId": "332d436d-f22d-4bf1-bcb9-90e19eaa6713",
        "colab": {
          "base_uri": "https://localhost:8080/"
        }
      },
      "execution_count": 19,
      "outputs": [
        {
          "output_type": "execute_result",
          "data": {
            "text/plain": [
              "torch.Size([1, 16, 5, 5])"
            ]
          },
          "metadata": {},
          "execution_count": 19
        }
      ]
    },
    {
      "cell_type": "code",
      "source": [
        "#We now have to create a model for all the images instead of just 1"
      ],
      "metadata": {
        "id": "LkCjDUfzfI0Q"
      },
      "execution_count": 20,
      "outputs": []
    },
    {
      "cell_type": "code",
      "source": [
        "class ConvolutionalNetwork(nn.Module):\n",
        "  def __init__(self):\n",
        "    super().__init__()\n",
        "    #we then need to bring our convulational networks defined before\n",
        "    self.conv1 = nn.Conv2d(1,6,3,1)\n",
        "    self.conv2 = nn.Conv2d(6,16,3,1)\n",
        "\n",
        "    #We also need a fully connected layer\n",
        "    self.fc1 = nn.Linear(5*5*16,120)\n",
        "    self.fc2 = nn.Linear(120,84)\n",
        "    self.fc3 = nn.Linear(84,10)\n",
        "\n",
        "    #We now need a forward function to push everything forward\n",
        "\n",
        "  def forward(self,X):\n",
        "    X = F.relu(self.conv1(X))\n",
        "    X = F.max_pool2d(X,2,2) #2x2 kernal and stride 2\n",
        "\n",
        "    X = F.relu(self.conv2(X))\n",
        "    X = F.max_pool2d(X,2,2) #2x2 kernal and stride 2\n",
        "\n",
        "    #Re-View to flatten it out\n",
        "    X = X.view(-1,16*5*5) #-1 so that we can vary the batch size\n",
        "\n",
        "    #Fully Connected Layers\n",
        "    X = F.relu(self.fc1(X))\n",
        "    X = F.relu(self.fc2(X))\n",
        "    X = self.fc3(X)\n",
        "    return F.log_softmax(X,dim=1)\n"
      ],
      "metadata": {
        "id": "7n0NRjTbmUf4"
      },
      "execution_count": 21,
      "outputs": []
    },
    {
      "cell_type": "code",
      "source": [
        "#Create an Instance of the model\n",
        "torch.manual_seed(41)\n",
        "model = ConvolutionalNetwork()\n",
        "model"
      ],
      "metadata": {
        "id": "UjZrsNbzsKEj",
        "outputId": "27cbfc02-30c3-45e2-8f33-9fabda7273ae",
        "colab": {
          "base_uri": "https://localhost:8080/"
        }
      },
      "execution_count": 22,
      "outputs": [
        {
          "output_type": "execute_result",
          "data": {
            "text/plain": [
              "ConvolutionalNetwork(\n",
              "  (conv1): Conv2d(1, 6, kernel_size=(3, 3), stride=(1, 1))\n",
              "  (conv2): Conv2d(6, 16, kernel_size=(3, 3), stride=(1, 1))\n",
              "  (fc1): Linear(in_features=400, out_features=120, bias=True)\n",
              "  (fc2): Linear(in_features=120, out_features=84, bias=True)\n",
              "  (fc3): Linear(in_features=84, out_features=10, bias=True)\n",
              ")"
            ]
          },
          "metadata": {},
          "execution_count": 22
        }
      ]
    },
    {
      "cell_type": "code",
      "source": [
        "#We need a Loss Function Optimizer\n",
        "criterion = nn.CrossEntropyLoss()\n",
        "optimizer = torch.optim.Adam(model.parameters(),lr=0.001)"
      ],
      "metadata": {
        "id": "MODznVPCsx7A"
      },
      "execution_count": 23,
      "outputs": []
    },
    {
      "cell_type": "code",
      "source": [
        "#Training and Testing our model\n",
        "\n",
        "#We will see how long it takes to train our module\n",
        "import time\n",
        "start_time = time.time()\n",
        "\n",
        "#Create variables to track things\n",
        "epochs = 5 #how many times we will train and test our model\n",
        "train_losses = []\n",
        "test_losses = []\n",
        "train_correct = []\n",
        "test_correct = []\n",
        "\n",
        "#for loop of epochs\n",
        "for i in range(epochs):\n",
        "  trn_corr = 0\n",
        "  tst_corr = 0\n",
        "\n",
        "  #Train\n",
        "  for b,(X_train,y_train) in enumerate(train_loader):\n",
        "    b+=1 #start our batches at 1\n",
        "    y_pred = model(X_train) #get predicted values from the training set\n",
        "    loss = criterion(y_pred,y_train) #how off are we? Compare the results.\n",
        "\n",
        "    predicted = torch.max(y_pred.data, 1)[1] #add up the number of correct predictions\n",
        "    batch_corr = (predicted == y_train).sum() #how many we got correct them sum up.True=1,False=0\n",
        "    trn_corr+= batch_corr\n",
        "\n",
        "    #Update our parameters\n",
        "    optimizer.zero_grad()\n",
        "    loss.backward()\n",
        "    optimizer.step()\n",
        "\n",
        "    #Print out some results\n",
        "    if b%600 == 0:\n",
        "      print(f'Epoch: {i} Batch: {b} Loss: {loss.item()}')\n",
        "\n",
        "  train_losses.append(loss)\n",
        "  train_correct.append(trn_corr)\n",
        "\n",
        "  #Working with Test data\n",
        "  with torch.no_grad(): #no grad so we don't update our weights and biases with test data\n",
        "    for b,(X_test,y_test) in enumerate(test_loader):\n",
        "      y_val = model(X_test)\n",
        "      predicted = torch.max(y_val.data,1)[1] #add up correct predictions\n",
        "      tst_corr+= (predicted == y_test).sum()\n",
        "\n",
        "  loss = criterion(y_val,y_test)\n",
        "  test_losses.append(loss)\n",
        "  test_correct.append(tst_corr)\n",
        "\n",
        "\n",
        "\n",
        "\n",
        "current_time = time.time()\n",
        "total = current_time - start_time\n",
        "print(f'Training took: {total/60} minutes!')\n",
        "\n"
      ],
      "metadata": {
        "id": "CtYfelMO_qXP",
        "outputId": "2abe7a7f-a78c-4c83-c9c8-514a9d4fc1c0",
        "colab": {
          "base_uri": "https://localhost:8080/"
        }
      },
      "execution_count": 24,
      "outputs": [
        {
          "output_type": "stream",
          "name": "stdout",
          "text": [
            "Epoch: 0 Batch: 600 Loss: 0.16236107051372528\n",
            "Epoch: 0 Batch: 1200 Loss: 0.15510495007038116\n",
            "Epoch: 0 Batch: 1800 Loss: 0.4651116728782654\n",
            "Epoch: 0 Batch: 2400 Loss: 0.17726822197437286\n",
            "Epoch: 0 Batch: 3000 Loss: 0.007429888937622309\n",
            "Epoch: 0 Batch: 3600 Loss: 0.37731707096099854\n",
            "Epoch: 0 Batch: 4200 Loss: 0.004938055761158466\n",
            "Epoch: 0 Batch: 4800 Loss: 0.0015040982980281115\n",
            "Epoch: 0 Batch: 5400 Loss: 0.06845302879810333\n",
            "Epoch: 0 Batch: 6000 Loss: 0.0004587689763866365\n",
            "Epoch: 1 Batch: 600 Loss: 0.04883628338575363\n",
            "Epoch: 1 Batch: 1200 Loss: 0.007730127777904272\n",
            "Epoch: 1 Batch: 1800 Loss: 0.0018222120124846697\n",
            "Epoch: 1 Batch: 2400 Loss: 0.005695418454706669\n",
            "Epoch: 1 Batch: 3000 Loss: 8.670352690387517e-05\n",
            "Epoch: 1 Batch: 3600 Loss: 0.024647679179906845\n",
            "Epoch: 1 Batch: 4200 Loss: 0.0003772796771954745\n",
            "Epoch: 1 Batch: 4800 Loss: 0.0037662566173821688\n",
            "Epoch: 1 Batch: 5400 Loss: 0.0004308634961489588\n",
            "Epoch: 1 Batch: 6000 Loss: 0.0003631356521509588\n",
            "Epoch: 2 Batch: 600 Loss: 0.06800970435142517\n",
            "Epoch: 2 Batch: 1200 Loss: 0.017130421474575996\n",
            "Epoch: 2 Batch: 1800 Loss: 0.00016057511675171554\n",
            "Epoch: 2 Batch: 2400 Loss: 0.0011561904102563858\n",
            "Epoch: 2 Batch: 3000 Loss: 0.452429860830307\n",
            "Epoch: 2 Batch: 3600 Loss: 0.0004995203344151378\n",
            "Epoch: 2 Batch: 4200 Loss: 0.0066449278965592384\n",
            "Epoch: 2 Batch: 4800 Loss: 0.05226270109415054\n",
            "Epoch: 2 Batch: 5400 Loss: 0.013335888274013996\n",
            "Epoch: 2 Batch: 6000 Loss: 0.003143183421343565\n",
            "Epoch: 3 Batch: 600 Loss: 0.0074938214384019375\n",
            "Epoch: 3 Batch: 1200 Loss: 0.058829497545957565\n",
            "Epoch: 3 Batch: 1800 Loss: 0.294942706823349\n",
            "Epoch: 3 Batch: 2400 Loss: 8.922907727537677e-05\n",
            "Epoch: 3 Batch: 3000 Loss: 0.0016191303730010986\n",
            "Epoch: 3 Batch: 3600 Loss: 0.07117747515439987\n",
            "Epoch: 3 Batch: 4200 Loss: 0.0006822942523285747\n",
            "Epoch: 3 Batch: 4800 Loss: 0.0033011981286108494\n",
            "Epoch: 3 Batch: 5400 Loss: 0.012023447081446648\n",
            "Epoch: 3 Batch: 6000 Loss: 0.0006079334998503327\n",
            "Epoch: 4 Batch: 600 Loss: 0.00037410794175229967\n",
            "Epoch: 4 Batch: 1200 Loss: 0.0021224170923233032\n",
            "Epoch: 4 Batch: 1800 Loss: 0.0014077607775107026\n",
            "Epoch: 4 Batch: 2400 Loss: 3.752371412701905e-05\n",
            "Epoch: 4 Batch: 3000 Loss: 0.0014142042491585016\n",
            "Epoch: 4 Batch: 3600 Loss: 0.007753764279186726\n",
            "Epoch: 4 Batch: 4200 Loss: 0.05483444407582283\n",
            "Epoch: 4 Batch: 4800 Loss: 0.00870027206838131\n",
            "Epoch: 4 Batch: 5400 Loss: 0.0015909296926110983\n",
            "Epoch: 4 Batch: 6000 Loss: 0.0014082028064876795\n",
            "Training took: 2.9042853713035583 minutes!\n"
          ]
        }
      ]
    },
    {
      "cell_type": "code",
      "source": [],
      "metadata": {
        "id": "YaZ0-tZnJNzL"
      },
      "execution_count": null,
      "outputs": []
    }
  ]
}